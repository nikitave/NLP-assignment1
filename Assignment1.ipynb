{
  "cells": [
    {
      "cell_type": "markdown",
      "metadata": {
        "id": "RKboZnAdgrRM"
      },
      "source": [
        "# [NLP] Assignment 1: Tokenization\n",
        "\n",
        "In this assignment, you need to tokenize the text of the Twitter(X) users posts(tweets). The assignment consists of two tasks. When you finish all the tasks, create a GitHub repository for this assignment (you can use this repo later for the other assignments) and submit this notebook in the repository. Leave `requirements.txt` file if your code requires additional installations. Submit the link to the repository in Moodle.\n",
        "\n",
        "The [data](https://drive.google.com/file/d/15x_wPAflvYQ2Xh38iNQGrqUIWLj5l5Nw/view?usp=share_link) contains 5 files whereby each contains 44 tweets. Each tweet is separated by a newline."
      ]
    },
    {
      "cell_type": "markdown",
      "metadata": {
        "id": "aLDjjAvemUP_"
      },
      "source": [
        "## Task 1. Tokenize some tweets manually (20 points)\n",
        "\n",
        "As a first task you need to tokenize first 15 tweets from `file2` by hand. This will allow you to understand the problem from a linguistic point of view. The guidelines for tweet tokenization are as follows:\n",
        "\n",
        "- Each smiley is a separate token\n",
        "- Each hashtag is an individual token. Each user reference is an individual token\n",
        "- If a word has spaces between them then it is converted to a single token\n",
        "- All punctuations are individual tokens. This includes double-quotes and single quotes also\n",
        "- A URL is a single token\n",
        "\n",
        "Example of output\n",
        "\n",
        "    Input tweet\n",
        "    @xfranman Old age has made N A T O!\n",
        "\n",
        "    Tokenized tweet (separated by comma)\n",
        "    @xfranman , Old , age , has , made , NATO , !"
      ]
    },
    {
      "cell_type": "markdown",
      "metadata": {
        "id": "7KKKwTidnzUw"
      },
      "source": [
        "\n",
        "    1. Input tweet\n",
        "    ...\n",
        "    1. Tokenized tweet\n",
        "    ...\n",
        "\n",
        "    2. Input tweet\n",
        "    ...\n",
        "    2. Tokenized tweet\n",
        "    ..."
      ]
    },
    {
      "cell_type": "markdown",
      "metadata": {},
      "source": [
        "<b>1\\. Input tweet </b><br>\n",
        "Camping in Maine for the weekend. Hey Dad, Mama Loves YOU: http://www.mamapalooza.com <br>\n",
        "<b>1\\. Tokenized tweet</b> <br>\n",
        "Camping, in, Maine, for, the, weekend, ., Hey, Dad, ,, Mama, Loves, YOU, :, http://www.mamapalooza.com\n",
        "\n",
        "<b>2\\. Input tweet </b> <br>\n",
        "Its american tradition bitch <br>\n",
        "<b>2\\. Tokenized tweet </b> <br>\n",
        "Its, american, tradition, bitch\n",
        "\n",
        "<b>3\\. Input tweet </b> <br>\n",
        "@ThroughTheVoid They love it! The only pleasure they get in life. I actually do that. I'm sure I hear a tiny squeak... Then louder ones <br>\n",
        "<b>3\\. Tokenized tweet </b> <br>\n",
        "@ThroughTheVoid, They, love, it, !, The, only, pleasure, they, get, in, life, ., I, actually, do, that, ., I, ', m, sure, I, hear, a, tiny, squeak, ., ., ., Then, louder, ones\n",
        "\n",
        "<b>4\\. Input tweet </b> <br>\n",
        "\" RT @latti: @AbsoHilare stop tweeting in church! Lol <--- \"\"I tweet because I'm happy, I tweet because I'm free\"\" LOL!\" <br>\n",
        "<b>4\\. Tokenized tweet </b> <br>\n",
        "\", RT, @latti, :, @AbsoHilare, stop, tweeting, in, church, !, Lol, <, -, -, -, \", \", I, tweet, because, I, ', m, happy, ,, I, tweet, because, I, ', m, free, \", \", LOL, !, \"\n",
        "\n",
        "<b>5\\. Input tweet </b> <br>\n",
        "Samsung Mini S2 portable HDD graced with colors that perfectly match your tacky beach gear: Sammy's done it aga.. http://tinyurl.com/lb5p6m <br>\n",
        "<b>5\\. Tokenized tweet </b> <br>\n",
        "Samsung, Mini, S2, portable, HDD, graced, with, colors, that, perfectly, match, your, tacky, beach, gear, :, Sammy, ', s, done, it, aga, ., ., http://tinyurl.com/lb5p6m\n",
        "\n",
        "<b> 6\\. Input tweet </b> <br>\n",
        "@dialloc congrats on finding your way over. it may be slow going at first. hang in there. it's kinda cool when u get up to speed. <br>\n",
        "<b> 6\\. Tokenized tweet </b> <br>\n",
        "@dialloc, congrats, on, finding, your, way, over, ., it, may, be, slow, going, at, first, ., hang, in, there, ., it, ', s, kinda, cool, when, u, get, up, to, speed, .\n",
        "\n",
        "<b> 7\\. Input tweet </b> <br>\n",
        "iPhone activation delays continue, Apple offers $30 http://twt.gs/l3Ki <br>\n",
        "<b> 7\\. Tokenized tweet </b> <br>\n",
        "iPhone, activation, delays, continue, ,, Apple, offers, &dollar;, 30, http://twt.gs/l3Ki\n",
        "\n",
        "\n",
        "<b> 8\\. Input tweet </b> <br>\n",
        "RT @GoogleAtWork Gmail maximum attachment size now 25MB http://bit.ly/62mjw Nice!!! <br>\n",
        "<b> 8\\. Tokenized tweet </b> <br>\n",
        "RT, @GoogleAtWork, Gmail, maximum, attachment, size, now, 25MB, http://bit.ly/62mjw, Nice, !, !, !\n",
        "\n",
        "<b> 9\\. Input tweet </b> <br>\n",
        "RT @acfou The Ads Won Awards for Crispin; But Did Nothing for Client BurgerKing's Sales/Marketshare - Big Surprise - http://ping.fm/vw8TI <br>\n",
        "<b> 9\\. Tokenized tweet </b> <br>\n",
        "RT, @acfou, The, Ads, Won, Awards, for, Crispin, ;, But, Did, Nothing, for, Client, BurgerKing, ', s, Sales, /, Marketshare, -, Big, Surprise, -, http://ping.fm/vw8TI\n",
        "\n",
        "<b> 10\\. Input tweet </b> <br>\n",
        "Hey doll! Great I missed True Blood yday boo lol Rt @FrankBanuat78 @jhillstephens Hello Sunshine how are u today? :-) <br>\n",
        "<b> 10\\. Tokenized tweet </b> <br>\n",
        "Hey, doll, !, Great, I, missed, True, Blood, yday, boo, lol, Rt, @FrankBanuat78, @jhillstephens, Hello, Sunshine, how, are, u, today, ?, :, -, )\n",
        "\n",
        "<b> 11\\. Input tweet </b> <br>\n",
        "Australian artist Pogo made these free songs primarily from sampled audio from Alice In Wonderland. http://www.last.fm/music/Pogo/Wonderland <br>\n",
        "<b> 11\\. Tokenized tweet </b> <br>\n",
        "Australian, artist, Pogo, made, these, free, songs, primarily, from, sampled, audio, from, Alice, In, Wonderland, ., http://www.last.fm/music/Pogo/Wonderland\n",
        "\n",
        "<b> 12\\. Input tweet </b> <br>\n",
        "@mppritchard they wanted to sell all the preorders & then sell all of the ones they had in stock to those that just walked in. Can't do both <br>\n",
        "<b> 12\\. Tokenized tweet </b> <br>\n",
        "@mppritchard, they, wanted, to, sell, all, the, preorders, &, then, sell, all, of, the, ones, they, had, in, stock, to, those, that, just, walked, in, ., Can, ', t, do, both\n",
        "\n",
        "<b> 13\\. Input tweet </b> <br>\n",
        "Incoming: Frightened Rabbit, Sept. 22 (Tucson): If Fat Cat Records is going to send three great bands from Scot.. http://tinyurl.com/nz6xcv <br>\n",
        "<b> 13\\. Tokenized tweet </b> <br>\n",
        "Incoming, :, Frightened, Rabbit, ,, Sept, ., 22, (, Tucson, ), :, If, Fat, Cat, Records, is, going, to, send, three, great, bands, from, Scot, ., ., http://tinyurl.com/nz6xcv\n",
        "\n",
        "<b> 14\\. Input tweet </b> <br>\n",
        "Hey @ginoandfran please greet philip! (GinoandFran live > http://ustre.am/2YyQ) <br>\n",
        "<b> 14\\. Tokenized tweet </b> <br>\n",
        "Hey, @ginoandfran, please, greet, philip, !, (, GinoandFran, live, >, http://ustre.am/2YyQ)\n",
        "\n",
        "<b> 15\\. Input tweet </b> <br>\n",
        "Ik weet niet wie er achter de T-Mobile iPhone Twitter zit maar ik vind het niet echt 'corporate' taalgebruik... Best vreemd eigenlijk <br>\n",
        "<b> 15\\. Tokenized tweet </b> <br>\n",
        "Ik, weet, niet, wie, er, achter, de, T, -, Mobile, iPhone, Twitter, zit, maar, ik, vind, het, niet, echt, ', corporate, ', taalgebruik, ., ., ., Best, vreemd, eigenlijk\n",
        "\n"
      ]
    },
    {
      "cell_type": "markdown",
      "metadata": {
        "id": "-2J2AD2nmUhi"
      },
      "source": [
        "## Task 2. Implement [Byte-Pair Encoding(BPE)](https://arxiv.org/pdf/1508.07909.pdf) Tokenizer (80 points)\n",
        "\n",
        "### Task 2.1. Implementation (60 points)\n",
        "\n",
        "Implement the tokenizer as the BPETokenizer class:\n",
        "* Implement `train` method that learns merges and builds the vocabulary of the specified `vocab_size` (25 points).\n",
        "* Implement `tokenize` method that should tokenize the text according to the learnt merges (25 points).\n",
        "\n",
        "Your code should have docstrings and comments (10 points)."
      ]
    },
    {
      "cell_type": "code",
      "execution_count": 195,
      "metadata": {},
      "outputs": [],
      "source": [
        "import re\n",
        "from collections import defaultdict\n",
        "\n",
        "class BPETokenizer:\n",
        "    \n",
        "    def __init__(self, vocab_size):\n",
        "        self.vocab_size = vocab_size\n",
        "\n",
        "    def train(self, corpus):\n",
        "        initial_list, frequency_list = defaultdict(int), defaultdict(int)\n",
        "        for words in corpus:\n",
        "            for word in words.split():\n",
        "                for letter in word:\n",
        "                    initial_list[letter] += 1\n",
        "                frequency_list[' '.join(word)] += 1\n",
        "\n",
        "        # initialize vocabulary with initial characters\n",
        "        vocabulary = []\n",
        "        for element in initial_list.keys():\n",
        "            vocabulary.append(element)\n",
        "\n",
        "        # merge vocabulary\n",
        "        for _ in range(self.vocab_size - len(vocabulary)):\n",
        "            pairs = defaultdict(int)\n",
        "            for word, frequency in frequency_list.items():\n",
        "                letters = word.split()\n",
        "                for i in range(len(letters) - 1):\n",
        "                    pairs[(letters[i], letters[i + 1])] += frequency\n",
        "\n",
        "            max_value = float('-inf')\n",
        "            for pair in pairs:\n",
        "                if pairs[pair] > max_value:\n",
        "                    max_value, best_pairs = pairs[pair], pair\n",
        "            pattern = re.compile(r'(?<!\\S)' + re.escape(' '.join(best_pairs)) + r'(?!\\S)')\n",
        "\n",
        "            merged_list = {}\n",
        "            for word, frequency in frequency_list.items():\n",
        "                merged_list[pattern.sub(''.join(best_pairs), word)] = frequency\n",
        "            frequency_list = merged_list\n",
        "            vocabulary.append(''.join(best_pairs))\n",
        "\n",
        "        # add special tokens to vocabulary\n",
        "        vocabulary += [\"</UNK>\"]\n",
        "\n",
        "        # create vocabulary index\n",
        "        vocabulary_ids = {}\n",
        "        for char, ids in zip(vocabulary, range(len(vocabulary))):\n",
        "            vocabulary_ids[char] = ids\n",
        "\n",
        "        # set the vocabulary and vocabulary index\n",
        "        self.vocabulary_ids = vocabulary_ids\n",
        "        self.vocabulary = vocabulary\n",
        "\n",
        "    # tokenize function \n",
        "    def tokenize(self, text: str):\n",
        "        tokens = [0]\n",
        "        left_bound, right_bound = 0, 0\n",
        "        while right_bound < len(text):\n",
        "            token = text[left_bound: right_bound + 1]\n",
        "            if token not in self.vocabulary_ids:\n",
        "                tokens.append(0)\n",
        "                left_bound = left_bound + 1 if left_bound == right_bound else right_bound\n",
        "                right_bound = right_bound if left_bound == right_bound else right_bound - 1\n",
        "            else:\n",
        "                tokens[-1] = self.vocabulary_ids[token]\n",
        "            right_bound += 1\n",
        "        return tokens\n",
        "\n",
        "    \n"
      ]
    },
    {
      "cell_type": "markdown",
      "metadata": {},
      "source": [
        "### Task 2.2. Analysis on Tweets Dataset (10 points)\n",
        "\n",
        "Train the BPE tokenizer on the tweets dataset. Try to tokenize the tweets with the tokenizer of different `vocab_size`. For example, train the BPE tokenizer with `vocab_size` of [base_vocab_size, 250, 500, 750, 1000]. Plot the dependency of the average length of the tokenized tweet by `vocab_size` to analyze how `vocab_size` affects the length of the tokenized tweet on average. Tell what `vocab_size` is preferrable and why."
      ]
    },
    {
      "cell_type": "code",
      "execution_count": 197,
      "metadata": {},
      "outputs": [
        {
          "data": {
            "image/png": "[encoded data removed]",
            "text/plain": [
              "<Figure size 640x480 with 1 Axes>"
            ]
          },
          "metadata": {},
          "output_type": "display_data"
        }
      ],
      "source": [
        "import matplotlib.pyplot as plt\n",
        "\n",
        "def average_tokenized_length(tokenizer, tweets):\n",
        "    total_length = 0\n",
        "    for tweet in tweets:\n",
        "        tokens = tokenizer.tokenize(tweet)\n",
        "        total_length += len(tokens)\n",
        "    return total_length / len(tweets)\n",
        "\n",
        "\n",
        "tweets = []\n",
        "\n",
        "for i in range (5):\n",
        "    with open(f'file{i + 1}', 'r') as file:\n",
        "        tweets += file.readlines()\n",
        "\n",
        "\n",
        "vocab_sizes = [250, 500, 750, 1000]\n",
        "\n",
        "avg_lengths = []\n",
        "\n",
        "# Training the tokenizer \n",
        "for vocab_size in vocab_sizes:\n",
        "    tokenizer = BPETokenizer(vocab_size)    \n",
        "    tokenizer.train(tweets)\n",
        "    avg_length = average_tokenized_length(tokenizer, tweets)\n",
        "    avg_lengths.append(avg_length)\n",
        "\n",
        "# Plot the results\n",
        "plt.plot(vocab_sizes, avg_lengths, marker='o')\n",
        "plt.xlabel('Vocabulary Size')\n",
        "plt.ylabel('Average Tokenized Length')\n",
        "plt.grid(True)\n",
        "plt.show()\n"
      ]
    },
    {
      "cell_type": "markdown",
      "metadata": {},
      "source": [
        "### Task 2.3. Analysis on Dataset of Different Language (10 points)\n",
        "\n",
        "Find a small dataset of texts in a language other than English. The dataset size should be not greater than several megabytes.\n",
        "\n",
        "Train the BPE tokenizer on the dataset that you found. Try to tokenize the sentences from this dataset with the tokenizer of different `vocab_size`. Plot the dependency of the average length of the tokenized sentence by `vocab_size` to analyze how `vocab_size` affects the length of the tokenized sentence on average.\n",
        "\n",
        "Tell how how the average length of the tokenized sentence differs from the average length of the tokenized tweet. Explain why. "
      ]
    },
    {
      "cell_type": "code",
      "execution_count": null,
      "metadata": {},
      "outputs": [],
      "source": [
        "# Your code here"
      ]
    }
  ],
  "metadata": {
    "colab": {
      "provenance": [],
      "toc_visible": true
    },
    "kernelspec": {
      "display_name": "Python 3",
      "name": "python3"
    },
    "language_info": {
      "codemirror_mode": {
        "name": "ipython",
        "version": 3
      },
      "file_extension": ".py",
      "mimetype": "text/x-python",
      "name": "python",
      "nbconvert_exporter": "python",
      "pygments_lexer": "ipython3",
      "version": "3.11.5"
    }
  },
  "nbformat": 4,
  "nbformat_minor": 0
}
